{
 "cells": [
  {
   "cell_type": "code",
   "execution_count": 1,
   "id": "ff870e87",
   "metadata": {},
   "outputs": [],
   "source": [
    "import os\n",
    "import WiSe \n",
    "import torch\n",
    "import numpy as np\n",
    "import pandas as pd\n",
    "import seaborn as sns\n",
    "import xgboost as xgb\n",
    "import data_cleaning as dc\n",
    "import matplotlib.pyplot as plt\n",
    "from sklearn.preprocessing import Normalizer\n",
    "from sklearn.preprocessing import StandardScaler\n",
    "from sklearn.model_selection import cross_val_score\n",
    "from sklearn.model_selection import train_test_split\n",
    "from pytorch_tabnet.tab_model import TabNetClassifier\n",
    "from sklearn.model_selection import cross_val_predict\n",
    "from sklearn.metrics import mean_squared_error, auc, roc_curve\n",
    "from sklearn.linear_model import LogisticRegression, RidgeClassifierCV\n",
    "from sklearn.metrics import mean_squared_error, auc, roc_curve, accuracy_score, roc_auc_score, r2_score, confusion_matrix"
   ]
  },
  {
   "cell_type": "markdown",
   "id": "0ad2dfc2",
   "metadata": {},
   "source": [
    "# TabNet Predictions"
   ]
  },
  {
   "cell_type": "code",
   "execution_count": 11,
   "id": "354121bf",
   "metadata": {},
   "outputs": [],
   "source": [
    "# load the dataset\n",
    "df = pd.read_csv(\"telco_data.csv\")\n",
    "target = 'Churn'\n",
    "df['SeniorCitizen'] = df['SeniorCitizen'].astype(object)\n",
    "df['Churn'] = df['Churn'].apply(lambda x: 0 if x == \"No\" else 1)\n",
    "df = df.drop(columns=['customerID'])"
   ]
  },
  {
   "cell_type": "code",
   "execution_count": 8,
   "id": "ac4aca15",
   "metadata": {},
   "outputs": [],
   "source": [
    "def print_kpi(model, X_test, y_test):\n",
    "    y_pred = model.predict(X_test)\n",
    "    print('Accuracy: {:.2f}'.format(accuracy_score(y_pred, y_test)))\n",
    "    fpr, tpr, _ = roc_curve(y_test,model.predict_proba(X_test)[:,1])\n",
    "    plt.plot(fpr, tpr)\n",
    "    plt.plot([0, 1], [0, 1],'r--')\n",
    "    plt.xlabel(\"False Positive Rate\")\n",
    "    plt.ylabel(\"True Positive Rate\")\n",
    "    plt.title(\"ROC Curve - Area = {:.5f}\".format(auc(fpr, tpr)));\n",
    "    return;"
   ]
  },
  {
   "cell_type": "code",
   "execution_count": 30,
   "id": "74bec5df",
   "metadata": {},
   "outputs": [],
   "source": [
    "def tabnet_train(features, max_epochs=50, lr=0.01, lambda_sparse=1e-5, step_size=75, gamma=0.7, verbose=1):\n",
    "    # load the dataset\n",
    "    df = pd.read_csv(\"telco_data.csv\")\n",
    "    target = 'Churn'\n",
    "    df['SeniorCitizen'] = df['SeniorCitizen'].astype(object)\n",
    "    df['Churn'] = df['Churn'].apply(lambda x: 0 if x == \"No\" else 1)\n",
    "    df = df.drop(columns=['customerID'])\n",
    "\n",
    "    # Split features and target\n",
    "    X = df.drop(columns=\"Churn\")[features]\n",
    "    y = df['Churn']\n",
    "\n",
    "    # ordinal encoding & compute col_idx & cold_dim\n",
    "    cat_idxs = []\n",
    "    cat_dims = []\n",
    "    for idx, col in enumerate(X.columns):\n",
    "        if df[col].dtype == object: \n",
    "            X, mapping = dc.feature_ordinalEncoding(X, col)\n",
    "            cat_idxs.append(idx)\n",
    "            cat_dims.append(len(mapping))\n",
    "\n",
    "    # split train, validation, test set\n",
    "    X_train, X_test, y_train, y_test = train_test_split(X, y, test_size=0.2)\n",
    "    X_train, X_valid, y_train, y_valid = train_test_split(X_train, y_train, test_size=0.2)\n",
    "\n",
    "    # convert to numpy array\n",
    "    X_train = X_train.values\n",
    "    X_test = X_test.values\n",
    "    X_valid = X_valid.values\n",
    "    y_train = y_train.values\n",
    "    y_test = y_test.values\n",
    "    y_valid = y_valid.values\n",
    "    \n",
    "    model = TabNetClassifier(\n",
    "                           n_d=15, n_a=15,\n",
    "                           cat_idxs=cat_idxs,\n",
    "                           cat_dims=cat_dims,\n",
    "                           cat_emb_dim=1,\n",
    "                           optimizer_fn=torch.optim.Adam,\n",
    "                           optimizer_params=dict(lr=lr),\n",
    "                           lambda_sparse=lambda_sparse,\n",
    "                           n_steps=7,\n",
    "                           scheduler_params={\"step_size\":75, # how to use learning rate scheduler\n",
    "                                             \"gamma\":0.7},\n",
    "                           scheduler_fn=torch.optim.lr_scheduler.StepLR,\n",
    "                           mask_type='sparsemax',\n",
    "                           verbose=verbose)\n",
    "    \n",
    "    model.fit(\n",
    "        X_train=X_train, y_train=y_train,\n",
    "        eval_set=[(X_train, y_train), (X_valid, y_valid)],\n",
    "        eval_name=['train', 'valid'],\n",
    "        eval_metric=['auc'],\n",
    "        max_epochs=max_epochs,\n",
    "        patience=300,\n",
    "        batch_size=1024, virtual_batch_size=128,\n",
    "        num_workers=0,\n",
    "        drop_last=False, \n",
    "        #weights=weights\n",
    "    )\n",
    "    \n",
    "    \n",
    "    print_kpi(model, X_test, y_test)\n",
    "    return model, X_train,  y_train "
   ]
  },
  {
   "cell_type": "code",
   "execution_count": 10,
   "id": "7c4e1b32",
   "metadata": {},
   "outputs": [],
   "source": [
    "def print_feature_importance(tabnet_model, features, nbr_features_to_print=10):\n",
    "    dict_feature_importance = dict(zip(features, tabnet_model.feature_importances_))\n",
    "    dict_feature_importance = {k: v for k, v in sorted(dict_feature_importance.items(), key=lambda item: item[1], reverse=True)}\n",
    "\n",
    "    fig, ax = plt.subplots()\n",
    "\n",
    "    y_pos = np.arange(len(features))\n",
    "\n",
    "    ax.barh(y_pos[:nbr_features_to_print], list(dict_feature_importance.values())[:nbr_features_to_print], align='center')\n",
    "    ax.set_yticks(y_pos[:nbr_features_to_print])\n",
    "    ax.set_yticklabels(list(dict_feature_importance.keys())[:nbr_features_to_print])\n",
    "    ax.invert_yaxis()  # labels read top-to-bottom\n",
    "    ax.set_xlabel('Relative Importance in the Descision')\n",
    "    ax.set_title('Feature Importance')\n",
    "    plt.show()"
   ]
  },
  {
   "cell_type": "markdown",
   "id": "0eaf3248",
   "metadata": {},
   "source": [
    "## I. TabNet on Full Dataset"
   ]
  },
  {
   "cell_type": "code",
   "execution_count": 16,
   "id": "d72123c5",
   "metadata": {},
   "outputs": [
    {
     "name": "stdout",
     "output_type": "stream",
     "text": [
      "Stop training because you reached max_epochs = 200 with best_epoch = 199 and best_valid_auc = 0.83146\n",
      "Best weights from best epoch are automatically used!\n",
      "Accuracy: 0.79\n"
     ]
    },
    {
     "data": {
      "image/png": "[encoded data removed]",
      "text/plain": [
       "<Figure size 432x288 with 1 Axes>"
      ]
     },
     "metadata": {
      "needs_background": "light"
     },
     "output_type": "display_data"
    }
   ],
   "source": [
    "# train on full dataset\n",
    "model_full, X_test_full, y_test_full = tabnet_train(df.drop(columns='Churn').columns, \n",
    "                                                    max_epochs=200, verbose=0)"
   ]
  },
  {
   "cell_type": "markdown",
   "id": "e9293eb9",
   "metadata": {},
   "source": [
    "## II. TabNet on WiSe Selection"
   ]
  },
  {
   "cell_type": "code",
   "execution_count": 2,
   "id": "cac75fdf",
   "metadata": {},
   "outputs": [],
   "source": [
    "# load the dataset\n",
    "df = pd.read_csv(\"telco_data.csv\")\n",
    "target = 'Churn'\n",
    "df['SeniorCitizen'] = df['SeniorCitizen'].astype(object)\n",
    "df['Churn'] = df['Churn'].apply(lambda x: 0 if x == \"No\" else 1)\n",
    "df = df.drop(columns=['customerID'])\n",
    "target = 'Churn'\n",
    "\n",
    "# convert dataframe\n",
    "for col in df.columns:\n",
    "    if df[col].dtype == object: \n",
    "        df, _ = dc.feature_ordinalEncoding(df, col)"
   ]
  },
  {
   "cell_type": "code",
   "execution_count": 3,
   "id": "38ee8bd6",
   "metadata": {},
   "outputs": [],
   "source": [
    "# apply univariate selection filters \n",
    "selected_pearson = WiSe.univariate_filter_spearman(df, target)\n",
    "selected_spearman = WiSe.univariate_filter_spearman(df, target)\n",
    "selected_univariate = list(set.union(set(selected_pearson), set(selected_spearman)))"
   ]
  },
  {
   "cell_type": "code",
   "execution_count": 6,
   "id": "7c2f00bc",
   "metadata": {},
   "outputs": [
    {
     "name": "stdout",
     "output_type": "stream",
     "text": [
      "Remaining number of features:  15 out of 19\n"
     ]
    }
   ],
   "source": [
    "# apply model selection based filtering \n",
    "selected_lasso = WiSe.model_selection_lasso(df.sample(1000), target, selected_univariate)\n",
    "print(\"Remaining number of features: \", len(selected_lasso), \"out of\", df.shape[1] -1)"
   ]
  },
  {
   "cell_type": "code",
   "execution_count": 155,
   "id": "6ecad3b9",
   "metadata": {},
   "outputs": [
    {
     "name": "stdout",
     "output_type": "stream",
     "text": [
      "\n",
      "Early stopping occurred at epoch 95 with best_epoch = 45 and best_valid_auc = 0.824\n",
      "Best weights from best epoch are automatically used!\n",
      "Accuracy: 0.79\n"
     ]
    },
    {
     "data": {
      "image/png": "[encoded data removed]",
      "text/plain": [
       "<Figure size 432x288 with 1 Axes>"
      ]
     },
     "metadata": {
      "needs_background": "light"
     },
     "output_type": "display_data"
    }
   ],
   "source": [
    "model_WiSe, X_test_WiSe, y_test_WiSe = tabnet_train(selected_univariate, \n",
    "                                                    max_epochs=500, verbose=0)"
   ]
  },
  {
   "cell_type": "code",
   "execution_count": 156,
   "id": "d862b1bc",
   "metadata": {},
   "outputs": [
    {
     "data": {
      "image/png": "[encoded data removed]",
      "text/plain": [
       "<Figure size 432x288 with 1 Axes>"
      ]
     },
     "metadata": {
      "needs_background": "light"
     },
     "output_type": "display_data"
    }
   ],
   "source": [
    "print_feature_importance(model_WiSe, selected_lasso, 10)"
   ]
  },
  {
   "cell_type": "markdown",
   "id": "5fea0184",
   "metadata": {},
   "source": [
    "**Remark:** Performance are poor. WiSe selection removed 75% of the features when at least a subset of 50% relevant features would give an appropriate model.   \n",
    "Some finer hyper-parameters tunnning is necessary. "
   ]
  },
  {
   "cell_type": "code",
   "execution_count": 32,
   "id": "16a286fd",
   "metadata": {},
   "outputs": [
    {
     "name": "stdout",
     "output_type": "stream",
     "text": [
      "\n",
      "Early stopping occurred at epoch 119 with best_epoch = 69 and best_valid_auc = 0.8144\n",
      "Best weights from best epoch are automatically used!\n",
      "Accuracy: 0.78\n"
     ]
    },
    {
     "data": {
      "image/png": "[encoded data removed]",
      "text/plain": [
       "<Figure size 432x288 with 1 Axes>"
      ]
     },
     "metadata": {
      "needs_background": "light"
     },
     "output_type": "display_data"
    }
   ],
   "source": [
    "model_WiSe, X_test_WiSe, y_test_WiSe = tabnet_train(selected_univariate, \n",
    "                                                    lr=0.1, lambda_sparse=5e-4, \n",
    "                                                    step_size=100, gamma=0.07,\n",
    "                                                    max_epochs=250, verbose=0)"
   ]
  },
  {
   "cell_type": "markdown",
   "id": "d01ae0de",
   "metadata": {},
   "source": [
    "## TabNet on RFE Selection"
   ]
  },
  {
   "cell_type": "code",
   "execution_count": 3,
   "id": "d20afdbf",
   "metadata": {},
   "outputs": [],
   "source": [
    "# load the dataset\n",
    "df = pd.read_csv(\"telco_data.csv\")\n",
    "target = 'Churn'\n",
    "df['SeniorCitizen'] = df['SeniorCitizen'].astype(object)\n",
    "df['Churn'] = df['Churn'].apply(lambda x: 0 if x == \"No\" else 1)\n",
    "df = df.drop(columns=['customerID'])\n",
    "target = 'Churn'\n",
    "\n",
    "# convert dataframe\n",
    "for col in df.columns:\n",
    "    if df[col].dtype == object: \n",
    "        df, _ = dc.feature_ordinalEncoding(df, col)"
   ]
  },
  {
   "cell_type": "code",
   "execution_count": 6,
   "id": "1c9cb11f",
   "metadata": {},
   "outputs": [],
   "source": [
    "df_reduced = df.sample(1000)"
   ]
  },
  {
   "cell_type": "code",
   "execution_count": 7,
   "id": "0c60de9f",
   "metadata": {},
   "outputs": [],
   "source": [
    "selected_rfe_15 = WiSe.model_selection_RFE(df_reduced, target, df_reduced.drop(columns=[target]).columns, 15)"
   ]
  },
  {
   "cell_type": "code",
   "execution_count": 8,
   "id": "d9ee460c",
   "metadata": {},
   "outputs": [],
   "source": [
    "selected_rfe_10 = WiSe.model_selection_RFE(df_reduced, target, df_reduced.drop(columns=[target]).columns, 10)"
   ]
  },
  {
   "cell_type": "code",
   "execution_count": 21,
   "id": "cdebfbf7",
   "metadata": {},
   "outputs": [
    {
     "data": {
      "text/plain": [
       "Index(['gender', 'SeniorCitizen', 'PhoneService', 'MultipleLines',\n",
       "       'OnlineSecurity', 'OnlineBackup', 'TechSupport', 'StreamingMovies',\n",
       "       'PaperlessBilling', 'PaymentMethod'],\n",
       "      dtype='object')"
      ]
     },
     "execution_count": 21,
     "metadata": {},
     "output_type": "execute_result"
    }
   ],
   "source": [
    "selected_rfe_10"
   ]
  },
  {
   "cell_type": "code",
   "execution_count": 14,
   "id": "89b06312",
   "metadata": {},
   "outputs": [
    {
     "name": "stdout",
     "output_type": "stream",
     "text": [
      "Stop training because you reached max_epochs = 50 with best_epoch = 44 and best_valid_auc = 0.83322\n",
      "Best weights from best epoch are automatically used!\n",
      "Accuracy: 0.78\n"
     ]
    },
    {
     "data": {
      "image/png": "[encoded data removed]",
      "text/plain": [
       "<Figure size 432x288 with 1 Axes>"
      ]
     },
     "metadata": {
      "needs_background": "light"
     },
     "output_type": "display_data"
    }
   ],
   "source": [
    "model_rfe15, X_test_rfe15, y_test_rfe15 = tabnet_train(selected_rfe_15, \n",
    "                                                    max_epochs=50, verbose=0)"
   ]
  },
  {
   "cell_type": "code",
   "execution_count": 19,
   "id": "5119bd6e",
   "metadata": {},
   "outputs": [
    {
     "data": {
      "image/png": "[encoded data removed]",
      "text/plain": [
       "<Figure size 432x288 with 1 Axes>"
      ]
     },
     "metadata": {
      "needs_background": "light"
     },
     "output_type": "display_data"
    }
   ],
   "source": [
    "print_feature_importance(model_rfe15, selected_rfe_15, 15)"
   ]
  },
  {
   "cell_type": "code",
   "execution_count": 15,
   "id": "65b9252a",
   "metadata": {},
   "outputs": [
    {
     "name": "stdout",
     "output_type": "stream",
     "text": [
      "Stop training because you reached max_epochs = 50 with best_epoch = 41 and best_valid_auc = 0.77549\n",
      "Best weights from best epoch are automatically used!\n",
      "Accuracy: 0.76\n"
     ]
    },
    {
     "data": {
      "image/png": "[encoded data removed]",
      "text/plain": [
       "<Figure size 432x288 with 1 Axes>"
      ]
     },
     "metadata": {
      "needs_background": "light"
     },
     "output_type": "display_data"
    }
   ],
   "source": [
    "model_rfe10, X_test_rfe10, y_test_rfe10 = tabnet_train(selected_rfe_10, \n",
    "                                                    max_epochs=50, verbose=0)"
   ]
  },
  {
   "cell_type": "code",
   "execution_count": 22,
   "id": "f389c88b",
   "metadata": {},
   "outputs": [
    {
     "data": {
      "image/png": "[encoded data removed]",
      "text/plain": [
       "<Figure size 432x288 with 1 Axes>"
      ]
     },
     "metadata": {
      "needs_background": "light"
     },
     "output_type": "display_data"
    }
   ],
   "source": [
    "print_feature_importance(model_rfe10, selected_rfe_10, 10)"
   ]
  },
  {
   "cell_type": "markdown",
   "id": "422e070a",
   "metadata": {},
   "source": [
    "**Remark:** Results aren't conclusive. For instance, gender is considered as a significant predictor of churn likelihood, whereas, it should not. "
   ]
  },
  {
   "cell_type": "markdown",
   "id": "0958f448",
   "metadata": {},
   "source": [
    "## II. Create TabNet \"Trainer\""
   ]
  },
  {
   "cell_type": "code",
   "execution_count": 150,
   "id": "0657419c",
   "metadata": {},
   "outputs": [],
   "source": [
    "import torch\n",
    "import numpy as np\n",
    "import pandas as pd\n",
    "import data_cleaning as dc\n",
    "import matplotlib.pyplot as plt\n",
    "from sklearn.model_selection import train_test_split\n",
    "from pytorch_tabnet.tab_model import TabNetClassifier\n",
    "from sklearn.metrics import mean_absolute_error, auc, roc_curve, accuracy_score, matthews_corrcoef, f1_score \n",
    "\n",
    "# target should already be encoded with O or 1\n",
    "class TabNet_binary_classifer_model:\n",
    "    def __init__(self, df, target, n_d=15, n_a=15, lr=1e-1, lambda_sparse=1e-5, step_size=75, gamma=0.7):\n",
    "        # save values params\n",
    "        self.n_d = n_d\n",
    "        self.n_a = n_a\n",
    "        self.lr = lr\n",
    "        self.lambda_sparse = lambda_sparse\n",
    "        self.step_size = step_size\n",
    "        self.gamma = gamma\n",
    "        \n",
    "        # ordinal encoding \n",
    "        df, self.mappings, self.cat_dims_full = self.data_encoding(df)\n",
    "        X, y = df.drop(columns=[target]), df[target]\n",
    "\n",
    "        # split train, validation, test set\n",
    "        self.X_train, self.X_test, self.y_train, self.y_test = train_test_split(X, y, test_size=0.2)\n",
    "        self.X_train, self.X_valid, self.y_train, self.y_valid = train_test_split(self.X_train, self.y_train, test_size=0.2)\n",
    "        \n",
    "        # original column ordering \n",
    "        self.original_ordering = np.array(self.X_train.columns)\n",
    "        self.categorical_features = list(self.mappings.keys())\n",
    "        \n",
    "        # initialy, no assumption on features on which model should be trained \n",
    "        self.features = self.X_train.columns\n",
    "        self.all_features = self.X_train.columns\n",
    "        \n",
    "        # convert to numpy array\n",
    "        self.X_train = self.X_train.values\n",
    "        self.X_test = self.X_test.values\n",
    "        self.X_valid = self.X_valid.values\n",
    "        self.y_train = self.y_train.values\n",
    "        self.y_test = self.y_test.values\n",
    "        self.y_valid = self.y_valid.values\n",
    "        \n",
    "        # model initialize later because requires categorical encodings  \n",
    "        self.model = None\n",
    "        self.cat_idxs = None\n",
    "        self.cat_dims = None\n",
    "        \n",
    "    def print_kpi(self, selection_mask):\n",
    "        y_pred = self.model.predict(self.X_test[:,selection_mask])\n",
    "        # plot some relevant KPI\n",
    "        print('Accuracy: {:.2f}'.format(accuracy_score(y_pred, self.y_test)))\n",
    "        print('MCC Score: {:.2f}'.format(matthews_corrcoef(self.y_test, y_pred)))\n",
    "        print('F1 Score: {:.2f}'.format(f1_score(self.y_test, y_pred)))\n",
    "\n",
    "        # plot ROC curve \n",
    "        fpr, tpr, _ = roc_curve(self.y_test, self.model.predict_proba(self.X_test[:,selection_mask])[:,1])\n",
    "        plt.plot(fpr, tpr)\n",
    "        plt.plot([0, 1], [0, 1],'r--')\n",
    "        plt.xlabel(\"False Positive Rate\")\n",
    "        plt.ylabel(\"True Positive Rate\")\n",
    "        plt.title(\"ROC Curve - Area = {:.5f}\".format(auc(fpr, tpr)));\n",
    "    \n",
    "        \n",
    "    def reinitialize_model(self, cat_idxs, cat_dims):\n",
    "        self.model = TabNetClassifier(\n",
    "                           n_d=self.n_d, n_a=self.n_a,\n",
    "                           cat_idxs=cat_idxs,\n",
    "                           cat_dims=cat_dims,\n",
    "                           cat_emb_dim=1,\n",
    "                           optimizer_fn=torch.optim.Adam,\n",
    "                           optimizer_params=dict(lr=sel.lr),\n",
    "                           lambda_sparse=self.lambda_sparse,\n",
    "                           n_steps=7,\n",
    "                           scheduler_params={\"step_size\":self.step_size, # how to use learning rate scheduler\n",
    "                                             \"gamma\":self.gamma},\n",
    "                           scheduler_fn=torch.optim.lr_scheduler.StepLR,\n",
    "                           mask_type='sparsemax',\n",
    "                           verbose=verbose)\n",
    "        \n",
    "        \n",
    "        \n",
    "    def data_encoding(self, df): \n",
    "        mappings = {}\n",
    "        cat_dims_full = {}\n",
    "        for col in dc.non_numerical_features(df):\n",
    "            df, mapping = dc.feature_ordinalEncoding(df, col)\n",
    "            mappings[col] = mapping\n",
    "            cat_dims_full[col] = len(mapping)\n",
    "            \n",
    "        return df, mappings, cat_dims_full\n",
    "    \n",
    "    def get_cat_idxs(self, selected_features):  \n",
    "        ordered_selected_features = [col for col in self.all_features if col in selected_features]\n",
    "    \n",
    "        cat_idxs = [idx for idx, col in enumerate(ordered_selected_features) if col in selected_features and col in self.categorical_features]\n",
    "                \n",
    "        cat_dims = [self.cat_dims_full[col] for col in ordered_selected_features if col in self.categorical_features]\n",
    "        \n",
    "        return cat_idxs, cat_dims, mask_selected\n",
    "    \n",
    "    def get_selection_mask(self, selected_features):\n",
    "        is_selected = lambda x, list_: True if x in list_ else False\n",
    "        selection_mask = [is_selected(col, selected_features) for col in self.all_features]\n",
    "        return selection_mask\n",
    "    \n",
    "    \n",
    "    def train_model(self, max_epochs=50, patience=50, reinitialize_model=False, features=None, \n",
    "                    eval_metric=['auc'], verbose=0, end_evaluation=False):\n",
    "        if features == None:\n",
    "            features = self.all_features\n",
    "        \n",
    "        self.features = features\n",
    "            \n",
    "        if self.model == None or reinitialize_model:\n",
    "            cat_idxs, cat_dims, mask_selected = self.get_cat_idxs(features)\n",
    "            self.model = TabNetClassifier(\n",
    "                                   n_d=self.n_d, n_a=self.n_a,\n",
    "                                   cat_idxs=cat_idxs,\n",
    "                                   cat_dims=cat_dims,\n",
    "                                   cat_emb_dim=1,\n",
    "                                   optimizer_fn=torch.optim.Adam,\n",
    "                                   optimizer_params=dict(lr=self.lr),\n",
    "                                   lambda_sparse=self.lambda_sparse,\n",
    "                                   n_steps=7,\n",
    "                                   scheduler_params={\"step_size\":self.step_size, # how to use learning rate scheduler\n",
    "                                                     \"gamma\":self.gamma},\n",
    "                                   scheduler_fn=torch.optim.lr_scheduler.StepLR,\n",
    "                                   mask_type='sparsemax',\n",
    "                                   verbose=verbose)\n",
    "    \n",
    "        selection_mask = self.get_selection_mask(features)\n",
    "        \n",
    "        self.model.fit(\n",
    "            X_train=self.X_train[:,selection_mask], y_train=self.y_train,\n",
    "            eval_set=[(self.X_train[:,selection_mask], self.y_train), (self.X_valid[:,selection_mask], self.y_valid)],\n",
    "            eval_name=['train', 'valid'],\n",
    "            eval_metric=eval_metric,\n",
    "            max_epochs=max_epochs,\n",
    "            patience=patience,\n",
    "            batch_size=1024, virtual_batch_size=128,\n",
    "            num_workers=0,\n",
    "            drop_last=False,\n",
    "            #weights=weights\n",
    "        )\n",
    "        \n",
    "        if end_evaluation:\n",
    "            self.print_kpi(selection_mask)\n",
    "    \n",
    "    def print_feature_importance(self, nbr_features_to_print=10):\n",
    "        dict_feature_importance = dict(zip(self.features, self.model.feature_importances_))\n",
    "        dict_feature_importance = {k: v for k, v in sorted(dict_feature_importance.items(), key=lambda item: item[1], reverse=True)}\n",
    "\n",
    "        fig, ax = plt.subplots()\n",
    "\n",
    "        y_pos = np.arange(len(self.features))\n",
    "\n",
    "        ax.barh(y_pos[:nbr_features_to_print], list(dict_feature_importance.values())[:nbr_features_to_print], align='center')\n",
    "        ax.set_yticks(y_pos[:nbr_features_to_print])\n",
    "        ax.set_yticklabels(list(dict_feature_importance.keys())[:nbr_features_to_print])\n",
    "        ax.invert_yaxis()  # labels read top-to-bottom\n",
    "        ax.set_xlabel('Relative Importance in the Descision')\n",
    "        ax.set_title('Feature Importance')\n",
    "        plt.show()\n",
    "    \n",
    "        return \n",
    "        \n",
    "        \n",
    "        "
   ]
  },
  {
   "cell_type": "code",
   "execution_count": 153,
   "id": "8a51088c",
   "metadata": {},
   "outputs": [
    {
     "name": "stdout",
     "output_type": "stream",
     "text": [
      "Stop training because you reached max_epochs = 100 with best_epoch = 86 and best_valid_auc = 0.84441\n",
      "Best weights from best epoch are automatically used!\n",
      "Accuracy: 0.81\n",
      "MCC Score: 0.48\n",
      "F1 Score: 0.59\n"
     ]
    },
    {
     "data": {
      "image/png": "[encoded data removed]",
      "text/plain": [
       "<Figure size 432x288 with 1 Axes>"
      ]
     },
     "metadata": {
      "needs_background": "light"
     },
     "output_type": "display_data"
    }
   ],
   "source": [
    "df = pd.read_csv(\"telco_data.csv\")\n",
    "target = 'Churn'\n",
    "df['SeniorCitizen'] = df['SeniorCitizen'].astype(object)\n",
    "df['Churn'] = df['Churn'].apply(lambda x: 0 if x == \"No\" else 1)\n",
    "df = df.drop(columns=['customerID'])\n",
    "\n",
    "TabNet = TabNet_binary_classifer_model(df, 'Churn')\n",
    "TabNet.train_model(max_epochs=100, verbose=0, end_evaluation=True)"
   ]
  },
  {
   "cell_type": "code",
   "execution_count": 154,
   "id": "c2a48ec4",
   "metadata": {},
   "outputs": [
    {
     "data": {
      "image/png": "[encoded data removed]",
      "text/plain": [
       "<Figure size 432x288 with 1 Axes>"
      ]
     },
     "metadata": {
      "needs_background": "light"
     },
     "output_type": "display_data"
    }
   ],
   "source": [
    "TabNet.print_feature_importance()"
   ]
  },
  {
   "cell_type": "code",
   "execution_count": null,
   "id": "dcfb13f9",
   "metadata": {},
   "outputs": [],
   "source": []
  },
  {
   "cell_type": "code",
   "execution_count": null,
   "id": "4c450ac0",
   "metadata": {},
   "outputs": [],
   "source": []
  },
  {
   "cell_type": "code",
   "execution_count": null,
   "id": "0407bb78",
   "metadata": {},
   "outputs": [],
   "source": []
  },
  {
   "cell_type": "code",
   "execution_count": 69,
   "id": "a30a3ca1",
   "metadata": {},
   "outputs": [],
   "source": [
    "TabNetClassifier?"
   ]
  },
  {
   "cell_type": "code",
   "execution_count": null,
   "id": "4d19188a",
   "metadata": {},
   "outputs": [],
   "source": []
  },
  {
   "cell_type": "code",
   "execution_count": 33,
   "id": "24fb4922",
   "metadata": {},
   "outputs": [],
   "source": [
    "df = pd.read_csv(\"telco_data.csv\")\n",
    "target = 'Churn'\n",
    "df['SeniorCitizen'] = df['SeniorCitizen'].astype(object)\n",
    "df['Churn'] = df['Churn'].apply(lambda x: 0 if x == \"No\" else 1)\n",
    "df = df.drop(columns=['customerID'])"
   ]
  },
  {
   "cell_type": "code",
   "execution_count": 89,
   "id": "a3fc7217",
   "metadata": {},
   "outputs": [
    {
     "data": {
      "text/plain": [
       "Index(['gender', 'SeniorCitizen', 'Partner', 'Dependents', 'tenure',\n",
       "       'PhoneService', 'MultipleLines', 'InternetService', 'OnlineSecurity',\n",
       "       'OnlineBackup', 'DeviceProtection', 'TechSupport', 'StreamingTV',\n",
       "       'StreamingMovies', 'Contract', 'PaperlessBilling', 'PaymentMethod',\n",
       "       'MonthlyCharges', 'TotalCharges', 'Churn'],\n",
       "      dtype='object')"
      ]
     },
     "execution_count": 89,
     "metadata": {},
     "output_type": "execute_result"
    }
   ],
   "source": [
    "df.columns"
   ]
  },
  {
   "cell_type": "code",
   "execution_count": 90,
   "id": "0a3f3c89",
   "metadata": {},
   "outputs": [],
   "source": [
    "selected_features = ['PaymentMethod', 'StreamingTV', 'TotalCharges']\n",
    "func = lambda x, list_: True if x in list_ else False\n",
    "mask_selected = [func(f, selected_features) for f in df.columns]\n",
    "ordered_features = [f for f in df.columns if f in selected_features]\n",
    "categorical_features = [col for col in df.columns if df[col].dtype == object]"
   ]
  },
  {
   "cell_type": "code",
   "execution_count": null,
   "id": "c04be7ee",
   "metadata": {},
   "outputs": [],
   "source": []
  },
  {
   "cell_type": "code",
   "execution_count": 91,
   "id": "bd5680c7",
   "metadata": {},
   "outputs": [
    {
     "data": {
      "text/plain": [
       "[0, 1]"
      ]
     },
     "execution_count": 91,
     "metadata": {},
     "output_type": "execute_result"
    }
   ],
   "source": [
    "[idx for idx, col in enumerate(ordered_features) if col in selected_features and col in categorical_features]"
   ]
  },
  {
   "cell_type": "code",
   "execution_count": 77,
   "id": "feb23596",
   "metadata": {},
   "outputs": [
    {
     "data": {
      "text/plain": [
       "['gender',\n",
       " 'SeniorCitizen',\n",
       " 'Partner',\n",
       " 'Dependents',\n",
       " 'PhoneService',\n",
       " 'MultipleLines',\n",
       " 'InternetService',\n",
       " 'OnlineSecurity',\n",
       " 'OnlineBackup',\n",
       " 'DeviceProtection',\n",
       " 'TechSupport',\n",
       " 'StreamingTV',\n",
       " 'StreamingMovies',\n",
       " 'Contract',\n",
       " 'PaperlessBilling',\n",
       " 'PaymentMethod']"
      ]
     },
     "execution_count": 77,
     "metadata": {},
     "output_type": "execute_result"
    }
   ],
   "source": [
    "func = lambda x: True if x.dtype == object else False \n",
    "[col for col in df.columns if df[col].dtype == object]"
   ]
  },
  {
   "cell_type": "code",
   "execution_count": 75,
   "id": "b21e5ad3",
   "metadata": {},
   "outputs": [
    {
     "data": {
      "text/plain": [
       "[False,\n",
       " False,\n",
       " False,\n",
       " False,\n",
       " False,\n",
       " False,\n",
       " False,\n",
       " False,\n",
       " False,\n",
       " False,\n",
       " False,\n",
       " False,\n",
       " True,\n",
       " False,\n",
       " False,\n",
       " False,\n",
       " True,\n",
       " False,\n",
       " False,\n",
       " False]"
      ]
     },
     "execution_count": 75,
     "metadata": {},
     "output_type": "execute_result"
    }
   ],
   "source": [
    "mask_categorical and mask_selected"
   ]
  },
  {
   "cell_type": "code",
   "execution_count": 82,
   "id": "53a6a36f",
   "metadata": {},
   "outputs": [
    {
     "data": {
      "text/html": [
       "<div>\n",
       "<style scoped>\n",
       "    .dataframe tbody tr th:only-of-type {\n",
       "        vertical-align: middle;\n",
       "    }\n",
       "\n",
       "    .dataframe tbody tr th {\n",
       "        vertical-align: top;\n",
       "    }\n",
       "\n",
       "    .dataframe thead th {\n",
       "        text-align: right;\n",
       "    }\n",
       "</style>\n",
       "<table border=\"1\" class=\"dataframe\">\n",
       "  <thead>\n",
       "    <tr style=\"text-align: right;\">\n",
       "      <th></th>\n",
       "      <th>original_ordering</th>\n",
       "      <th>field_name</th>\n",
       "    </tr>\n",
       "  </thead>\n",
       "  <tbody>\n",
       "    <tr>\n",
       "      <th>0</th>\n",
       "      <td>0</td>\n",
       "      <td>gender</td>\n",
       "    </tr>\n",
       "    <tr>\n",
       "      <th>1</th>\n",
       "      <td>1</td>\n",
       "      <td>SeniorCitizen</td>\n",
       "    </tr>\n",
       "    <tr>\n",
       "      <th>2</th>\n",
       "      <td>2</td>\n",
       "      <td>Partner</td>\n",
       "    </tr>\n",
       "    <tr>\n",
       "      <th>3</th>\n",
       "      <td>3</td>\n",
       "      <td>Dependents</td>\n",
       "    </tr>\n",
       "    <tr>\n",
       "      <th>4</th>\n",
       "      <td>4</td>\n",
       "      <td>tenure</td>\n",
       "    </tr>\n",
       "    <tr>\n",
       "      <th>5</th>\n",
       "      <td>5</td>\n",
       "      <td>PhoneService</td>\n",
       "    </tr>\n",
       "    <tr>\n",
       "      <th>6</th>\n",
       "      <td>6</td>\n",
       "      <td>MultipleLines</td>\n",
       "    </tr>\n",
       "    <tr>\n",
       "      <th>7</th>\n",
       "      <td>7</td>\n",
       "      <td>InternetService</td>\n",
       "    </tr>\n",
       "    <tr>\n",
       "      <th>8</th>\n",
       "      <td>8</td>\n",
       "      <td>OnlineSecurity</td>\n",
       "    </tr>\n",
       "    <tr>\n",
       "      <th>9</th>\n",
       "      <td>9</td>\n",
       "      <td>OnlineBackup</td>\n",
       "    </tr>\n",
       "    <tr>\n",
       "      <th>10</th>\n",
       "      <td>10</td>\n",
       "      <td>DeviceProtection</td>\n",
       "    </tr>\n",
       "    <tr>\n",
       "      <th>11</th>\n",
       "      <td>11</td>\n",
       "      <td>TechSupport</td>\n",
       "    </tr>\n",
       "    <tr>\n",
       "      <th>12</th>\n",
       "      <td>12</td>\n",
       "      <td>StreamingTV</td>\n",
       "    </tr>\n",
       "    <tr>\n",
       "      <th>13</th>\n",
       "      <td>13</td>\n",
       "      <td>StreamingMovies</td>\n",
       "    </tr>\n",
       "    <tr>\n",
       "      <th>14</th>\n",
       "      <td>14</td>\n",
       "      <td>Contract</td>\n",
       "    </tr>\n",
       "    <tr>\n",
       "      <th>15</th>\n",
       "      <td>15</td>\n",
       "      <td>PaperlessBilling</td>\n",
       "    </tr>\n",
       "    <tr>\n",
       "      <th>16</th>\n",
       "      <td>16</td>\n",
       "      <td>PaymentMethod</td>\n",
       "    </tr>\n",
       "    <tr>\n",
       "      <th>17</th>\n",
       "      <td>17</td>\n",
       "      <td>MonthlyCharges</td>\n",
       "    </tr>\n",
       "    <tr>\n",
       "      <th>18</th>\n",
       "      <td>18</td>\n",
       "      <td>TotalCharges</td>\n",
       "    </tr>\n",
       "    <tr>\n",
       "      <th>19</th>\n",
       "      <td>19</td>\n",
       "      <td>Churn</td>\n",
       "    </tr>\n",
       "  </tbody>\n",
       "</table>\n",
       "</div>"
      ],
      "text/plain": [
       "    original_ordering        field_name\n",
       "0                   0            gender\n",
       "1                   1     SeniorCitizen\n",
       "2                   2           Partner\n",
       "3                   3        Dependents\n",
       "4                   4            tenure\n",
       "5                   5      PhoneService\n",
       "6                   6     MultipleLines\n",
       "7                   7   InternetService\n",
       "8                   8    OnlineSecurity\n",
       "9                   9      OnlineBackup\n",
       "10                 10  DeviceProtection\n",
       "11                 11       TechSupport\n",
       "12                 12       StreamingTV\n",
       "13                 13   StreamingMovies\n",
       "14                 14          Contract\n",
       "15                 15  PaperlessBilling\n",
       "16                 16     PaymentMethod\n",
       "17                 17    MonthlyCharges\n",
       "18                 18      TotalCharges\n",
       "19                 19             Churn"
      ]
     },
     "execution_count": 82,
     "metadata": {},
     "output_type": "execute_result"
    }
   ],
   "source": [
    "pd.DataFrame(df.columns, columns=['field_name']).reset_index().rename(columns={'index': 'original_ordering'})"
   ]
  },
  {
   "cell_type": "code",
   "execution_count": null,
   "id": "8dc55682",
   "metadata": {},
   "outputs": [],
   "source": []
  }
 ],
 "metadata": {
  "kernelspec": {
   "display_name": "Python 3",
   "language": "python",
   "name": "python3"
  },
  "language_info": {
   "codemirror_mode": {
    "name": "ipython",
    "version": 3
   },
   "file_extension": ".py",
   "mimetype": "text/x-python",
   "name": "python",
   "nbconvert_exporter": "python",
   "pygments_lexer": "ipython3",
   "version": "3.8.8"
  }
 },
 "nbformat": 4,
 "nbformat_minor": 5
}
