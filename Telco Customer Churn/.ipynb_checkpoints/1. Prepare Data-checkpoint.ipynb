{
 "cells": [
  {
   "cell_type": "code",
   "execution_count": 1,
   "id": "e9e62d63",
   "metadata": {},
   "outputs": [],
   "source": [
    "import numpy as np\n",
    "import pandas as pd "
   ]
  },
  {
   "cell_type": "markdown",
   "id": "147b7273",
   "metadata": {},
   "source": [
    "# Prepare the dataset"
   ]
  },
  {
   "cell_type": "code",
   "execution_count": 4,
   "id": "c79c71d7",
   "metadata": {},
   "outputs": [],
   "source": [
    "df_raw = pd.read_csv(\"telco_data_raw.csv\")\n",
    "target = 'Churn'"
   ]
  },
  {
   "cell_type": "code",
   "execution_count": 15,
   "id": "ec0c8393",
   "metadata": {},
   "outputs": [],
   "source": [
    "df_raw['TotalCharges'] = pd.to_numeric(df_raw['TotalCharges'], errors='coerce')\n",
    "df_raw['TotalCharges'] = df_raw['TotalCharges'].replace(np.nan, 0, regex=True)"
   ]
  },
  {
   "cell_type": "code",
   "execution_count": 16,
   "id": "e3f228cf",
   "metadata": {},
   "outputs": [
    {
     "name": "stdout",
     "output_type": "stream",
     "text": [
      "______________________________\n",
      "Column: gender\n",
      "Female\n",
      "Male\n",
      "______________________________\n",
      "______________________________\n",
      "Column: Partner\n",
      "Yes\n",
      "No\n",
      "______________________________\n",
      "______________________________\n",
      "Column: Dependents\n",
      "No\n",
      "Yes\n",
      "______________________________\n",
      "______________________________\n",
      "Column: PhoneService\n",
      "No\n",
      "Yes\n",
      "______________________________\n",
      "______________________________\n",
      "Column: MultipleLines\n",
      "No phone service\n",
      "No\n",
      "Yes\n",
      "______________________________\n",
      "______________________________\n",
      "Column: InternetService\n",
      "DSL\n",
      "Fiber optic\n",
      "No\n",
      "______________________________\n",
      "______________________________\n",
      "Column: OnlineSecurity\n",
      "No\n",
      "Yes\n",
      "No internet service\n",
      "______________________________\n",
      "______________________________\n",
      "Column: OnlineBackup\n",
      "Yes\n",
      "No\n",
      "No internet service\n",
      "______________________________\n",
      "______________________________\n",
      "Column: DeviceProtection\n",
      "No\n",
      "Yes\n",
      "No internet service\n",
      "______________________________\n",
      "______________________________\n",
      "Column: TechSupport\n",
      "No\n",
      "Yes\n",
      "No internet service\n",
      "______________________________\n",
      "______________________________\n",
      "Column: StreamingTV\n",
      "No\n",
      "Yes\n",
      "No internet service\n",
      "______________________________\n",
      "______________________________\n",
      "Column: StreamingMovies\n",
      "No\n",
      "Yes\n",
      "No internet service\n",
      "______________________________\n",
      "______________________________\n",
      "Column: Contract\n",
      "Month-to-month\n",
      "One year\n",
      "Two year\n",
      "______________________________\n",
      "______________________________\n",
      "Column: PaperlessBilling\n",
      "Yes\n",
      "No\n",
      "______________________________\n",
      "______________________________\n",
      "Column: PaymentMethod\n",
      "Electronic check\n",
      "Mailed check\n",
      "Bank transfer (automatic)\n",
      "Credit card (automatic)\n",
      "______________________________\n",
      "______________________________\n",
      "Column: Churn\n",
      "No\n",
      "Yes\n",
      "______________________________\n"
     ]
    }
   ],
   "source": [
    "# list the categorical columns to export to SF\n",
    "for col in df_raw.columns: \n",
    "    if col != \"customerID\":\n",
    "        if df_raw[col].dtype == object:\n",
    "            print(\"______________________________\")\n",
    "            print(\"Column:\", col)\n",
    "            for name in df_raw[col].unique():\n",
    "                print(name)    \n",
    "            print(\"______________________________\")"
   ]
  },
  {
   "cell_type": "code",
   "execution_count": 18,
   "id": "f5693de9",
   "metadata": {},
   "outputs": [],
   "source": [
    "df_raw.to_csv(\"telco_data.csv\", index=False)"
   ]
  },
  {
   "cell_type": "code",
   "execution_count": null,
   "id": "135fd23d",
   "metadata": {},
   "outputs": [],
   "source": []
  },
  {
   "cell_type": "code",
   "execution_count": null,
   "id": "27db96d3",
   "metadata": {},
   "outputs": [],
   "source": []
  }
 ],
 "metadata": {
  "kernelspec": {
   "display_name": "Python 3",
   "language": "python",
   "name": "python3"
  },
  "language_info": {
   "codemirror_mode": {
    "name": "ipython",
    "version": 3
   },
   "file_extension": ".py",
   "mimetype": "text/x-python",
   "name": "python",
   "nbconvert_exporter": "python",
   "pygments_lexer": "ipython3",
   "version": "3.8.8"
  }
 },
 "nbformat": 4,
 "nbformat_minor": 5
}
